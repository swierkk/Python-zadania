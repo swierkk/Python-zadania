{
 "cells": [
  {
   "cell_type": "markdown",
   "metadata": {},
   "source": [
    "**Seria warsztatów z analizy danych w Pythonie**\n",
    "\n",
    "_Zadanie rekrutacyjne_\n",
    "\n",
    "Napisz funkcję <code><font color=\"blue\">are_anagrams</font>(s1, s2, s3)</code>, która zwróci:\n",
    "\n",
    "* <code>True</code>, jeżeli łańcuchy znaków <code>s1, s2, s3</code> są anagramami,\n",
    "\n",
    "* <code>False</code>, jeżeli łańcuchy znaków <code>s1, s2, s3</code> nie są anagramami.\n",
    "\n",
    "Załóż, że maksymalna długość każdego z łańcuchów znaków jest równa **5**.\n",
    "\n",
    "Uzasadnij zaproponowane rozwiązanie, umieszczając komentarze w treści kodu."
   ]
  },
  {
   "cell_type": "code",
   "execution_count": 5,
   "metadata": {},
   "outputs": [
    {
     "name": "stdout",
     "output_type": "stream",
     "text": [
      "True\n"
     ]
    }
   ],
   "source": [
    "#zeby stwierdzic czy lancuchy znakow sa anagramami musze ustalic czy maja takie same litery w takiej samej ilosci,\n",
    "#z lancucha znakow tworze slownik ktorego kluczem jest litera a wartoscia czestosc jej wystepowania w lancuchu.\n",
    "#nastepnie porownam 3 slowniki\n",
    "def CreateDict(s):\n",
    "    #sprawdzam czy dlugosc nie przekracza 5\n",
    "        if len(s)>5:        \n",
    "            raise ValueError('exceeded max no of letters')\n",
    "    #sprawdzam czy elementy lancucha to litery\n",
    "        elif(s.isalpha() == False):\n",
    "            raise ValueError('string is not all letters')\n",
    "        \n",
    "        else:   \n",
    "    #ujednolicam wielkosc liter\n",
    "            s = s.lower()\n",
    "            list1 = list(s)\n",
    "            dict_s = {}\n",
    "            for i in range(len(list1)):\n",
    "                dict_s[list1[i]] = list1.count(\n",
    "                    list1[i]\n",
    "                    )\n",
    "        return dict_s\n",
    "    \n",
    "#definiuje funkcje ktora sprawdza czy slowa sa anagramami\n",
    "\n",
    "def are_anagrams(s1, s2, s3):\n",
    "    dict_s1 = CreateDict(s1)\n",
    "    dict_s2 = CreateDict(s2)\n",
    "    dict_s3 = CreateDict(s3)\n",
    "    return dict_s1==dict_s2==dict_s3\n",
    "\n",
    "try:\n",
    "    if are_anagrams(\"cesda\", \"adsec\", \"asdce\"):\n",
    "        print(\"True\")\n",
    "    else:\n",
    "        print(\"False\")\n",
    "except Exception as e:\n",
    "    print (e)\n",
    "    "
   ]
  },
  {
   "cell_type": "code",
   "execution_count": null,
   "metadata": {},
   "outputs": [],
   "source": []
  }
 ],
 "metadata": {
  "celltoolbar": "Edit Metadata",
  "kernelspec": {
   "display_name": "Python 3",
   "language": "python",
   "name": "python3"
  },
  "language_info": {
   "codemirror_mode": {
    "name": "ipython",
    "version": 3
   },
   "file_extension": ".py",
   "mimetype": "text/x-python",
   "name": "python",
   "nbconvert_exporter": "python",
   "pygments_lexer": "ipython3",
   "version": "3.8.3"
  }
 },
 "nbformat": 4,
 "nbformat_minor": 2
}
